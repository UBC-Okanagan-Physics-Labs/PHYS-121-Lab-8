{
 "cells": [
  {
   "cell_type": "markdown",
   "id": "282af69a",
   "metadata": {
    "deletable": false,
    "editable": false,
    "tags": []
   },
   "source": [
    "# <div style=\"background-color:rgba(204, 229, 255, 0.5); text-align:center; vertical-align: middle; padding:40px 0; margin-top:30px\"><span style=\"color:rgba(0, 76, 153, 1);\">**PHYS 121 Lab #8**<span style=\"color:red\"> $\\to$ (19 possible marks)</span> </span></div> \n",
    "\n",
    "<font size =\"4\"><span style=\"color:purple\">We recommend that you complete this notebook using either the [Google Chrome](https://www.google.com/intl/en_ca/chrome/) or [Mozilla Firefox](https://www.mozilla.org/en-CA/firefox/new/) browser.  Chrome and Firefox are both available for Windows, Mac, and Linux operating systems.  The PHYS 121 Jupyter notebooks should work in other browsers, but we have specifically verfied that they work well in both Chrome and Firefox.</span></font>\n",
    "\n",
    "# Faraday's Law \\& Eddy Currents"
   ]
  },
  {
   "cell_type": "markdown",
   "id": "1a31cb92",
   "metadata": {
    "deletable": false,
    "editable": false,
    "tags": []
   },
   "source": [
    "***\n",
    "## Learning Objectives:\n",
    "* <b><span style=\"color:rgba(0, 153, 76, 1);\">Quantitatively study and model the motion of a strong magnet sliding down a conducting track.</span></b>\n",
    "* <b><span style=\"color:rgba(0, 153, 76, 1);\">Observe static magnetic fields exerting a force on moving charges.</span></b>\n",
    "* <b><span style=\"color:rgba(0, 153, 76, 1);\">Observe changing magnetic fields inducing currents.</span></b>"
   ]
  },
  {
   "cell_type": "markdown",
   "id": "b8657aa5",
   "metadata": {
    "deletable": false,
    "editable": false,
    "tags": []
   },
   "source": [
    "***\n",
    "## Autograding:\n",
    "The PHYS 121 Pre-lab assignments and Labs will make use of some autograding.  To make the autograding work, the two cells below needs to be executed.  The first one installs the required packages and the second imports required packages/modules.  If 'PHYS121.Installer()' reports that some functions have been installed, the user should restart the \"kernel\" and then exectute the PHYS121.Installer() cell a second time.  The second time the installer function is run, it should report that **\"All packages already installed. Please proceed\"**.\n",
    "\n",
    "If necessary, the kernel can be restarted by selecting **Kernel** $\\to$ **Restart Kernel** from the menu options at to the top of the page.  Here is a <a href = \"https://raw.githubusercontent.com/UBC-Okanagan-Physics-Labs/PHYS-121-images/main/general/gifs/restartKernel.gif\">GIF</a> showing how to restart the kernel.\n",
    "\n",
    "The 'PHYS121.Installer()' command requires the file 'PHYS121.py', which you should see included in the list of files along the left-hand side of the screen."
   ]
  },
  {
   "cell_type": "code",
   "execution_count": null,
   "id": "69aed2bf",
   "metadata": {
    "deletable": false,
    "editable": false,
    "tags": []
   },
   "outputs": [],
   "source": [
    "# Import PHYS121.py and then run the installer function.\n",
    "import PHYS121\n",
    "PHYS121.Installer()"
   ]
  },
  {
   "cell_type": "code",
   "execution_count": null,
   "id": "57a21849",
   "metadata": {
    "deletable": false,
    "editable": false,
    "tags": []
   },
   "outputs": [],
   "source": [
    "# Initialize Otter\n",
    "import otter\n",
    "grader = otter.Notebook(\"PHYS 121 - Lab 8.ipynb\")"
   ]
  },
  {
   "cell_type": "markdown",
   "id": "99eaaf7b",
   "metadata": {
    "deletable": false,
    "editable": false,
    "tags": []
   },
   "source": [
    "***\n",
    "## Import Modules:\n",
    "Execute the cell below to import a number of useful pre-built Python modules that will be used in the PHYS 121 pre-labs and labs."
   ]
  },
  {
   "cell_type": "code",
   "execution_count": null,
   "id": "281afa30",
   "metadata": {},
   "outputs": [],
   "source": [
    "import numpy as np\n",
    "import matplotlib.pyplot as plt\n",
    "import pandas as pd\n",
    "from matplotlib.pyplot import cm # used to generate a sequence of colours for plotting\n",
    "from scipy.optimize import curve_fit\n",
    "from IPython.display import HTML as html_print\n",
    "from IPython.display import display, Markdown, Latex\n",
    "from IPython.display import YouTubeVideo\n",
    "import math"
   ]
  },
  {
   "cell_type": "markdown",
   "id": "59f73b21",
   "metadata": {
    "deletable": false,
    "editable": false,
    "tags": []
   },
   "source": [
    "# <div style=\"background-color:rgba(255, 204, 255, 0.5); text-align:center; vertical-align: middle; padding:40px 0; margin-top:30px\"><span style=\"color:rgba(102, 0, 204, 1);\">Name & Student Number</span></div>  \n",
    "\n",
    "To ensure that both you and your partner receive credit for you lab work, both your name and student number and your partner's name and student number need to appear in the notebooks used during the labs.  In the cells below this text, enter your name and student number and your partner's name and student number as strings (i.e. place your names and student numbers between single or double quotes.\n",
    "\n",
    "Examples of valid entries are:\n",
    "```python\n",
    "last_name_1 = 'Doe'\n",
    "first_name_1 = 'Jane'\n",
    "student_number_1 = '12345678'\n",
    "```\n",
    "and\n",
    "```python\n",
    "last_name_1 = \"Doe\"\n",
    "first_name_1 = \"John\"\n",
    "student_number_1 = \"12345678\"\n",
    "```"
   ]
  },
  {
   "cell_type": "markdown",
   "id": "902de59c",
   "metadata": {
    "deletable": false,
    "editable": false,
    "tags": []
   },
   "source": [
    "<!-- BEGIN QUESTION -->\n",
    "\n",
    "***\n",
    "### **<span style=\"color:blue\">Partner #1</span>** **<span style=\"color:red\">(0.5 marks)</span>** "
   ]
  },
  {
   "cell_type": "code",
   "execution_count": null,
   "id": "ce0862c4",
   "metadata": {
    "tags": []
   },
   "outputs": [],
   "source": [
    "# Enter LAST name of partner 1.  Delete the ... below and type your entry between the single quotes.\n",
    "# Once you've completed your entry, press SHIFT + ENTER to execute the cell.\n",
    "# *** Please do not change anything to the left of the equals sign. ***\n",
    "last_name_1 = ..."
   ]
  },
  {
   "cell_type": "code",
   "execution_count": null,
   "id": "c855b07e",
   "metadata": {
    "tags": []
   },
   "outputs": [],
   "source": [
    "# Enter FIRST name of partner 1.  Delete the ... below and type your entry between the single quotes.\n",
    "# Once you've completed your entry, press SHIFT + ENTER to execute the cell.\n",
    "# *** Please do not change anything to the left of the equals sign. ***\n",
    "first_name_1 = ..."
   ]
  },
  {
   "cell_type": "code",
   "execution_count": null,
   "id": "91404870",
   "metadata": {
    "tags": []
   },
   "outputs": [],
   "source": [
    "# Enter STUDENT NUMBER of partner 1.  Delete the ... below and type your entry between the single quotes.\n",
    "# Once you've completed your entry, press SHIFT + ENTER to execute the cell.\n",
    "# *** Please do not change anything to the left of the equals sign. ***\n",
    "student_number_1 = ..."
   ]
  },
  {
   "cell_type": "markdown",
   "id": "39cb1022",
   "metadata": {
    "deletable": false,
    "editable": false,
    "tags": []
   },
   "source": [
    "***\n",
    "### **<span style=\"color:blue\">Partner #2</span>** **<span style=\"color:red\">(0.5 marks)</span>** \n",
    "If you are working on your own, leave all of last_name_2, first_name_2, and student_number_2 as ...  Please still exectute these cells and then run the 'grader.check(\"name_and_student_number_2\")' cell."
   ]
  },
  {
   "cell_type": "code",
   "execution_count": null,
   "id": "2a5f5166",
   "metadata": {
    "tags": []
   },
   "outputs": [],
   "source": [
    "# Enter LAST name of partner 2.  Delete the ... below and type your entry between the single quotes.\n",
    "# Once you've completed your entry, press SHIFT + ENTER to execute the cell.\n",
    "# *** Please do not change anything to the left of the equals sign. ***\n",
    "last_name_2 = ..."
   ]
  },
  {
   "cell_type": "code",
   "execution_count": null,
   "id": "cacac6c0",
   "metadata": {
    "tags": []
   },
   "outputs": [],
   "source": [
    "# Enter FIRST name of partner 2.  Delete the ... below and type your entry between the single quotes.\n",
    "# Once you've completed your entry, press SHIFT + ENTER to execute the cell.\n",
    "# *** Please do not change anything to the left of the equals sign. ***\n",
    "first_name_2 = ..."
   ]
  },
  {
   "cell_type": "code",
   "execution_count": null,
   "id": "af901fb0",
   "metadata": {
    "tags": []
   },
   "outputs": [],
   "source": [
    "# Enter STUDENT NUMBER of partner 2.  Delete the ... below and type your entry between the single quotes.\n",
    "# Once you've completed your entry, press SHIFT + ENTER to execute the cell.\n",
    "# *** Please do not change anything to the left of the equals sign. ***\n",
    "student_number_2 = ..."
   ]
  },
  {
   "cell_type": "code",
   "execution_count": null,
   "id": "cc7bbde5",
   "metadata": {
    "deletable": false,
    "editable": false
   },
   "outputs": [],
   "source": [
    "grader.check(\"name_and_student_number\")"
   ]
  },
  {
   "cell_type": "markdown",
   "id": "62bff9ca",
   "metadata": {
    "deletable": false,
    "editable": false,
    "tags": []
   },
   "source": [
    "<!-- END QUESTION -->\n",
    "\n",
    "# <div style=\"background-color:rgba(255, 204, 255, 0.5); text-align:center; vertical-align: middle; padding:40px 0; margin-top:30px\"><span style=\"color:rgba(102, 0, 204, 1);\">Part 1 - Introduction (15 minutes)</span></div>\n",
    "\n",
    "Electromagnetism can be unintuitive at times - this lab will help demonstrate a few principles from electromagnetism so that even if you think they are *strange*, you can at least clearly observe their effects.  Many of the concepts relevant to this lab have not been covered in the lecture yet.  That's okay.  In research, it's common for experimental work to predate a full theoretical understanding.  For example, superconductivity was first observed in mercury in 1911, but a theoretical understanding of the phenomenon wasn't fully developed until 1957 in the so-called BSC (Bardeen, Cooper, and Schrieffer) Theory of Superconductivity.  A new class of *high-temperature* superconductors was discovered in 1987.  A microscope understanding of the mechanism driving superconductivity in these materials still eludes physicists to this day.\n",
    "\n",
    "> **Today's lab will be used to motivate the topics that will be discussed in the PHYS 121 lectures over the remaining few weeks in the term.** 😉\n",
    "\n",
    "\n",
    "Recall that electrical currents are a *source* of magnetic fields.  We will see that **Ampère's law** gives us a way to calculate the magnetic field produced by an arrangement of currents.  In Lab #7, we used the fact that a current in a solenoid produces a uniform magnetic field within the bore of the solenoid.  **Faraday's law** describes a complementary process in which magnetic fields produce electrical currents. Mathematically, this effect is expressed as:\n",
    "\n",
    "\\begin{equation}\n",
    "\\mathcal{E} = -\\frac{d\\Phi_B}{dt}\n",
    "\\tag{1}\n",
    "\\end{equation}\n",
    "\n",
    "where $\\Phi_B$ is the **magnetic flux** through a closed conducting loop and $\\mathcal{E}$ is the **electromotive force** or **emf** produced in the loop.  The term **emf** is just used to represent a voltage *induced* by a changing magnetic flux.  The units of **emf** are volts: $[\\mathcal{E}]=\\rm\\ V$.  Notice from Eq. (1) that, if the magnetic flux $\\Phi_B$ is constant, then $\\mathcal{E}=0$.  \n",
    "\n",
    "One important observation is that we now have a second way of producing voltage differences.  Previously, we always had to rely on batteries to provide a voltage difference to drive current in a circuit.  It now appears that a changing magnetic field (or more precisely, magnetic flux) can be used to establish a voltage differnce to drive current in a circuit.  This phenomenon is the basis for electric generators which convert mechanical energy into electrical energy.\n",
    "\n",
    "A second important observation is that:\n",
    "\n",
    " - only *moving* charges create magnetic fields\n",
    " - only a *changing* magnetic flux can induce an emf\n",
    " \n",
    " A charge at rest produces no magetic field and a constant magnetic flux produces no emf.\n",
    "\n",
    "The magnetic flux through a surface is determined by the component of the magnetic field that is perpendicular to the surface. For flat surfaces, $\\Phi_B = BA\\cos\\theta$, where $A$ is the area of the surface and  $\\theta$ is the angle between $\\vec{B}$ and a vector normal to the surface. **Figure 1**, shows three surfaces with identical areas $A$ in the same uniform magnetic field $\\vec{B}$. \n",
    "* Surface A is perpendicular to the field, such that $\\theta = 0$, $\\cos\\theta = 1$, and $\\Phi_B = BA$.\n",
    "* The normal to surface B (the blue vector) is at an angle $\\theta$ with respect to $\\vec{B}$, such that $\\Phi_B = BA\\cos\\theta = BA_{\\perp}$, where $A_{\\perp}$ is the area of the projected surface surrounded by dashed lines and $\\perp$ to $\\vec{B}$ in **Fig. 1**.\n",
    "* Surface C is parallel to $\\vec{B}$ such that its normal vector is perpendicular to the magnetic the field ($\\theta = 90^\\circ$). Since $\\cos 90 = 0$,  $\\Phi_B = 0$ in this case.\n",
    "\n",
    "<br>\n",
    "<p>\n",
    "<center>\n",
    "<img src=\"https://raw.githubusercontent.com/UBC-Okanagan-Physics-Labs/PHYS-121-images/main/Lab-8/images/flux.png\" style=\"width: 60%\" /><br>  \n",
    "<b>Fig. 1:  Although the surfaces A, B and C experience the same uniform magnetic field $\\vec{B}$ and have the same surface area $A$, the magnetic flux $\\Phi_B$ through each depends on their orientation with respect to the magnetic field. </b></center>\n",
    "</p>\n",
    "\n",
    "If these surfaces were replaced by conducting loops, we would *still not* expect a current to be generated because the magnetic flux through each loop/surface is constant: the induced emf in Eq. (1) depends on the *time-rate of change* of the $\\Phi_B$, and not the flux itself. If these loops/surfaces were fixed in space and $\\vec{B}$ was constant, there would be no emf and hence no induced current.\n",
    "\n",
    "Since, for a flat surface, $\\Phi_B = BA\\cos\\theta$, there are three different ways to make a *changing* magnetic flux.  We could manipulate any of $B$, $A$, or $\\theta$:\n",
    "\n",
    "- We could change the strength of the magnetic field.  For example, as shown in **Fig. 2**, moving a permanent magnet towards or away from a loop of wire will change the magetic flux through the loop which induces and emf that establishes a current in the loop.  Effectively, this is the effect that you'll investigate in today's lab.\n",
    "\n",
    "<p>\n",
    "<center>\n",
    "<img src=\"https://github.com/UBC-Okanagan-Physics-Labs/PHYS-121-images/blob/main/Lab-8/images/Faraday.jpg?raw=true\" style=\"width: 60%\" /><br>  \n",
    "<b>Fig. 2:  Moving a permanent magnetic towards or away from a coil of wire induces a current in the wire.  Figure taken from <a href = \"https://phys.libretexts.org/Courses/Muhlenberg_College/Physics_122%3A_General_Physics_II_%28Collett%29/09%3A_Electromagnetic_Induction/9.02%3A_Faradays_Law\">LibreTexts</a>. </b></center>\n",
    "</p>\n",
    "\n",
    "- Alternatively, we could change the area of a loop suspended in a uniform magnetic field.  For example, **Fig. 3** shows a square loop of wire in a uniform magnetic field.  If one was to close the loop by pulling opposite corners away from one another, there would be an induced current in the loop during the time it takes area to go from $L^2$ to zero.\n",
    "\n",
    "<p>\n",
    "<center>\n",
    "<img src=\"https://github.com/UBC-Okanagan-Physics-Labs/PHYS-121-images/blob/main/Lab-8/images/Faraday1.png?raw=true\" style=\"width: 40%\" /><br>  \n",
    "<b>Fig. 3:  Changing the area of a loop in a uniform magnetic field will result in an induced emf and current.</b></center>\n",
    "</p>\n",
    "\n",
    "- Finally, as shown in **Fig. 4**, we could also change the angle $\\theta$ that the normal to the loop makes with $\\vec{B}$.  At the instant the loop is perpendicular $\\vec{B}$, the magnetic flux is a maximum and *decreasing*.  When the loop is parallel to $\\vec{B}$, the flux is a minimum and *increasing*.  **Figure 4** demonstrates the basic idea behind electric generators which supply nearly all of the power in electric power grids.\n",
    "\n",
    "<p>\n",
    "<center>\n",
    "<img src=\"https://raw.githubusercontent.com/UBC-Okanagan-Physics-Labs/PHYS-121-images/59bb1e708915cfd509d6d150ff0c9f7c1e355ad0/Lab-8/images/Faraday2.svg\" style=\"width: 33%\" /><br>  \n",
    "<b>Fig. 4:  Rotating a loop of fixed area in a uniform magnetic field will result in an induced emf and current.  Figure adapted from an image taken from <a href = \"https://commons.wikimedia.org/wiki/File:Electric-generator-3D-with-load.svg\">Wikimedia Commons</a>.</b></center>\n",
    "</p>\n",
    "\n"
   ]
  },
  {
   "cell_type": "markdown",
   "id": "bb887045",
   "metadata": {
    "deletable": false,
    "editable": false,
    "tags": []
   },
   "source": [
    "# <div style=\"background-color:rgba(255, 204, 255, 0.5); text-align:center; vertical-align: middle; padding:40px 0; margin-top:30px\"><span style=\"color:rgba(102, 0, 204, 1);\">Part 2 - Magnetic Braking - Data Collection (50 minutes)</span></div>"
   ]
  },
  {
   "cell_type": "markdown",
   "id": "6ace1973",
   "metadata": {
    "deletable": false,
    "editable": false,
    "tags": []
   },
   "source": [
    "In the first part of this lab, you will explore one effect of Faraday's Law of induction.  **Figure 5** shows a magnet sliding along a copper plate with velocity $\\vec{v}$. Since copper is a conductor, any circle embedded in the copper sheet can be considered a conducting loop.  The sliding magnet, and its magnetic field, are moving away from the loop on the left causing the magnetic flux through the left loop to *decrease*.  On the other hand, the magnet is approaching the loop on the right causing the magnetic flux to *increase* in this loop.  \n",
    "\n",
    "<br>\n",
    "<p>\n",
    "<center>\n",
    "<img src=\"https://github.com/UBC-Okanagan-Physics-Labs/PHYS-121-images/blob/main/Lab-8/images/eddy.png?raw=true\" style=\"width: 55%\" /><br>\n",
    "<b>Fig. 5: Schematic diagram of the eddy currents and resulting magnetic fields produced by a magnet sliding along a copper sheet.  </b>\n",
    "</center>\n",
    "</p>\n",
    "\n",
    "Notice that the induced currents in these two loops have been drawn in opposite directions.  Remember also that currents create magnetic fields.  Therefore, we have the following situation:\n",
    "\n",
    "- A changing magnetic flux induces an emf $\\mathcal{E}$\n",
    "- The induced emfs drive currents $I_\\mathrm{ind}$ in the copper strip\n",
    "- The induced currents create their own magnetic fields $\\vec{B}_\\mathrm{ind}$\n",
    "\n",
    "**Lenz's law** states that the induced magnetic fields act to **oppose** the original change in magnetic flux.  In **Fig. 5**, the magnetic flux in the left loop is decreasing.  The original magnetic field due to the sliding magnet was pointing up.  $I_\\mathrm{ind}$ in this loop acts to oppose this change in flux and, hence, produces a $\\vec{B}_\\mathrm{ind}$ that also points *up*.  The situation is the opposite for the right loop:  The magnetic flux is increasing and the induced current creates a $\\vec{B}_\\mathrm{ind}$ that points *down* to oppose this change.  Little bar magnets have been added to the figure to emphasize the directions of the magnetic fields due to the sliding magnet and the left and right current loops.  The south pole at the bottom of the sliding magnet will be attracted to the north pole of the left current loop and repelled by the south pole of the right current loop.  As a result, even in the absence of friction, the sliding magnet will slow down and eventually come to a stop, a demostration of *magnetic braking*.\n",
    "\n",
    "We will attempt to model the magnetic braking force as a drag force.  Specifically, we assume that the braking/drag force $F_\\mathrm{d}$ will be proportional to the speed of the magnet.  This assumption makes sense because, if the magnet is moving fast, the magntic flux will be changing quickly (large $d\\Phi_B/dt$) and the induced emf will be large.  Thefore:\n",
    "\n",
    "\\begin{equation}\n",
    "F_{d} = -bv\n",
    "\\tag{2}\n",
    "\\end{equation}\n",
    "\n",
    "where $v$ is the velocity and $b$ is a drag coefficient.  Recall that a similar model was used for the drag force in PHYS 111 when you investigated the drag acting on a coffee filter dropped from some height above the ground.  Of course, there will also be kinetic friction between the magnet and copper track.  **Figure 6** shows a complete free-body diagram of the forces acting on the magnet as it slides down an inclined ramp.  $\\mu_\\mathrm{k}$ is the coefficient of kinetic friction, and $\\vec{N}$ is the normal force.\n",
    "\n",
    "<p>\n",
    "<center>\n",
    "<img src=\"https://raw.githubusercontent.com/UBC-Okanagan-Physics-Labs/PHYS-121-images/main/Lab-8/images/FBD.png\" style=\"width: 40%\" /><br>\n",
    "<b>Fig. 6: Free-body diagram for the magnet sliding down an inclined copper ramp.  </b></center>\n",
    "</p>\n",
    "\n",
    "Applying Newton's 2$^\\mathrm{nd}$ law to this system leads to $N = mg\\cos\\alpha$ and:\n",
    "\n",
    "$$\n",
    "ma = mg\\sin\\alpha -\\mu_\\mathrm{k}mg\\cos\\alpha -bv\n",
    "\\tag{3}\n",
    "$$\n",
    "\n",
    "where $a$ is the magnitude of the acceleration down the ramp.  If the magnet is released from rest, its speed will initially increase until it reaches a terminal velocity $v_\\mathrm{T}$ at which point $a=0$.  Setting $a=0$ in Eq. (3) leads to:\n",
    "\n",
    "$$\n",
    "v_\\mathrm{T} = \\frac{mg}{b}\\left(\\sin\\alpha - \\mu_\\mathrm{k}\\cos\\alpha\\right)\n",
    "\\tag{4}\n",
    "$$\n",
    "\n",
    "Substituting this expression for $v_\\mathrm{T}$ back into Eq. (3) lead to:\n",
    "\n",
    "$$\n",
    "ma = b\\left(v_\\mathrm{T} - v\\right)\n",
    "\\tag{5}\n",
    "$$\n",
    "\n",
    "By recognizing that $a=\\dfrac{dv}{dt}$ and $v=\\dfrac{dx}{dt}$, it is possible to solve Eq. (5) for the speed $v$ and position $x$ of the sliding magnet as a function of time.  The results are:\n",
    "\n",
    "\\begin{align}\n",
    "v(t) &= v_\\mathrm{T}\\left(1-e^{-t/\\tau}\\right)\\tag{6}\\\\\n",
    "x(t) & = v_\\mathrm{T}\\tau\\left[\\dfrac{t}{\\tau} - 1 + e^{-t/\\tau}\\right]\\tag{7}\n",
    "\\end{align}\n",
    "\n",
    "where $\\tau = m/b$ is the time constant that determines how quickly the magnet approaches the terminal velocity.\n"
   ]
  },
  {
   "cell_type": "markdown",
   "id": "adc3b75f",
   "metadata": {
    "deletable": false,
    "editable": false,
    "tags": []
   },
   "source": [
    "<!-- BEGIN QUESTION -->\n",
    "\n",
    "***\n",
    "**<span style=\"color:blue\">Question 2.1</span>**  **<span style=\"color:red\">(1 mark)</span>**  \n",
    "\n",
    "What would you expect a graph of $x(t)$ just after the magnet is released and it's *approaching* terminal velocity? If you're having trouble working this out from Eq. (7), try using your intuition, and then refer back to the equation to make your statement more precise."
   ]
  },
  {
   "cell_type": "markdown",
   "id": "968a5c30",
   "metadata": {},
   "source": [
    "***\n",
    "**<span style=\"color:blue\">Answer 2.1:</span>**\n",
    "\n",
    "[//]: # (Please do not delete this comment or anything above it.  Anything below this comment can be deleted.)  \n",
    "\n",
    "Double click this cell and enter your text here.  When done, hit 'Shift' + 'Enter' to execute the cell.  You may delete this text when entering your answer. "
   ]
  },
  {
   "cell_type": "markdown",
   "id": "6d6b1365",
   "metadata": {
    "deletable": false,
    "editable": false,
    "tags": []
   },
   "source": [
    "<!-- END QUESTION -->\n",
    "\n",
    "<!-- BEGIN QUESTION -->\n",
    "\n",
    "***\n",
    "**<span style=\"color:blue\">Question 2.2</span>**  **<span style=\"color:red\">(1 mark)</span>**  \n",
    "\n",
    "Describe the expected shape of the graph of $x(t)$ *after* the magnet has reached terminal velocity."
   ]
  },
  {
   "cell_type": "markdown",
   "id": "0155987f",
   "metadata": {},
   "source": [
    "***\n",
    "**<span style=\"color:blue\">Answer 2.2:</span>**\n",
    "\n",
    "[//]: # (Please do not delete this comment or anything above it.  Anything below this comment can be deleted.)  \n",
    "\n",
    "Double click this cell and enter your text here.  When done, hit 'Shift' + 'Enter' to execute the cell.  You may delete this text when entering your answer. \n",
    "***"
   ]
  },
  {
   "cell_type": "markdown",
   "id": "7bd47b18",
   "metadata": {
    "deletable": false,
    "editable": false,
    "tags": []
   },
   "source": [
    "<!-- END QUESTION -->\n",
    "\n",
    "On your table, you'll find magnet and a ramp with three copper tracks. There's also enough space between two of the copper tracks to slide the magnet down a plastic track with no copper beneath it.  The three copper stips have different thicknesses.  Referring to **Fig. 7**, from left to right, the thickness of the copper tracks are:\n",
    "* Thin  $\\Longrightarrow 0.006\\rm\\ inches = 0.152\\rm\\ mm$ (copper foil)\n",
    "* Medium $\\Longrightarrow 0.021\\rm\\ inches = 0.533\\rm\\ mm$\n",
    "* Thick $\\Longrightarrow 0.0625\\rm\\ inches = 1.59\\rm\\ mm$\n",
    "\n",
    "In **Fig. 7**, the plastic track is between the thin and medium copper tracks.  For some of the ramps in the lab, the plastic track is between the medium and thick copper tracks. \n",
    "\n",
    "<p>\n",
    "<center>\n",
    "<img src=\"https://github.com/UBC-Okanagan-Physics-Labs/PHYS-121-images/blob/main/Lab-8/images/ramps.png?raw=true\" style=\"width: 65%\" /><br>\n",
    "<b>Fig. 7: Materials for Part 2 of this lab. Left: Top and bottom of the permanent magnet. The top has a dot to facilitate video tracking, and the bottom is covered with Teflon to reduce kinetic friction. Right: Ramp with three copper tracks and one plastic track.</b></center>\n",
    "</p>"
   ]
  },
  {
   "cell_type": "markdown",
   "id": "ad1d7747",
   "metadata": {
    "deletable": false,
    "editable": false,
    "tags": []
   },
   "source": [
    "<!-- BEGIN QUESTION -->\n",
    "\n",
    "***\n",
    "**<span style=\"color:blue\">Question 2.3</span>**  **<span style=\"color:red\">(1 mark)</span>**  \n",
    "\n",
    "We have introduced an unknown parameter (the drag coefficient) $b$ into our expression for the drag force. The value of $b$ sets the strength of the magnetic braking effect - if $b$ is large, the effect will be strong. Rank the four tracks (three copper and one plastic) in terms of the expected value of $b$.  Order your ranking from the largest value of $b$ to the smallest. Briefly explain your choice."
   ]
  },
  {
   "cell_type": "markdown",
   "id": "b0b11ba2",
   "metadata": {},
   "source": [
    "***\n",
    "**<span style=\"color:blue\">Answer 2.3:</span>**\n",
    "\n",
    "[//]: # (Please do not delete this comment or anything above it.  Anything below this comment can be deleted.)  \n",
    "\n",
    "Double click this cell and enter your text here.  When done, hit 'Shift' + 'Enter' to execute the cell.  You may delete this text when entering your answer. \n",
    "***"
   ]
  },
  {
   "cell_type": "markdown",
   "id": "dc5d6ce6",
   "metadata": {
    "deletable": false,
    "editable": false,
    "tags": []
   },
   "source": [
    "<!-- END QUESTION -->\n",
    "\n",
    "Using the provided phone, you will record the magnet sliding down each of these tracks. **In order to accurately track the magnet's motion, you will need to adjust the camera to its slow-motion setting.**  When in the slow-motion mode, you won't be able to adjust the zoom setting of the camera.  Instead, you'll need to adjust the height that the phone is held above the track to a suitable distance.\n",
    "\n",
    "<p>\n",
    "<center>\n",
    "<img src=\"https://raw.githubusercontent.com/UBC-Okanagan-Physics-Labs/PHYS-121-images/main/Lab-8/images/slomo.jpg\" style=\"width: 25%\" /><br>\n",
    "<b>Fig. 8: With the camera app opened, scroll to the \"More\" tab to switch to the slow motion setting.  </b></center>\n",
    "</p>\n",
    "\n",
    "Before filming, ensure that the phone is oriented parallel to the ramp and that you've maximized the region of the ramp in view of the camera. You wil record four separate videos and then upload them to the desktop computer at your station. The following steps will guide you through using Tracker to collect data from your videos. \n",
    "\n",
    "1. Move your videos from the DCIM folder to the home drive on the computer (H:)\n",
    "\n",
    "2. Open Tracker. \n",
    "\n",
    "3. For each of your recordings, complete steps 3 - 12 below.  It is best if you keep the videos short.  It will save time when importing the recordings into Tracker.\n",
    "\n",
    "4. Click File -> Import -> Video... and navigate to the appropriate folder to import your video\n",
    "\n",
    "5. The video will may be oriented in the wrong way. To fix this, Right-click on video -> Filters -> New -> Rotate \n",
    "\n",
    "6. To set the frame-rate, right click Video -> Clip Settings... and change the framerate from $30\\rm\\ FPS$ to $240\\rm\\ FPS$.\n",
    "\n",
    "7. Find the first frame of the video after the magnet was released. You can click and drag the scrollbar or use Ctrl+mouse wheel to move through the frames. Take note of the frame number, and then move the left-hand black arrow to this frame. \n",
    "\n",
    "8. Do the same thing for the indicator of the ending time. Tracker will only consider the frames between the start and stop indicators. Click the black return arrow on the left side of the scroll bar to return to the first marked frame.  See **Fig. 9**.  **Note: Your results will be best if you track the position of the magnet for only the first $0.3$ to $0.4\\rm\\ s$ of its motion after it is released.**  This corresponds to about 100 frames of the video clip.\n",
    "\n",
    "<p>\n",
    "<center>\n",
    "<img src=\"https://raw.githubusercontent.com/UBC-Okanagan-Physics-Labs/PHYS-121-images/main/Lab-8/images/scrollbar.png\" style=\"width: 60%\" /><br>\n",
    "<b>Fig. 9: Scrollbar before and after steps 7 and 8. The black arrows on the bottom bound the segment that you want to measure.  </b></center>\n",
    "</p>\n",
    "\n",
    "9. Place your axes so that the origin is at the centre of your magnet in the first frame. Rotate the axes so that the magnet will be sliding in the positive x-direction.\n",
    "\n",
    "10. To set the length scale, press the calibration icon, then New -> Calibration Stick. Click and drag the calibration stick to align it with the orange ruler on your ramp and set the distance to $0.150\\rm\\ m$.  See **Fig. 10**. (For added precision, use the mouse wheel to zoom in and out.)\n",
    "\n",
    "<p>\n",
    "<center>\n",
    "<img src=\"https://github.com/UBC-Okanagan-Physics-Labs/PHYS-121-images/blob/main/Lab-8/images/axes_scale.jpg?raw=true\" style=\"width: 35%\" /><br>\n",
    "<b>Fig. 10: Guide to the icons used in steps 9, and 10.  </b></center>\n",
    "</p>\n",
    "\n",
    "10. Now set up your tracker. Click Track -> New -> Point Mass and then open the auto-tracker. On the first frame, Shift-Ctrl-Click the centre of your magnet. The inner circle is the \"template\" - this is what the auto-tracker will look for as the frames advance. It should be large enough to show a clear distinction between the black dot and the pink paper. The outer square is the area in which the auto-tracker will look for a match to the initial template. If your magnet is going very fast by the end of the video, or if the lighting changes abruptly, autotracker may lose sight of the dot. If the suggested mark is accurate, you can press \"Accept\" to continue. If it isn't, you can manually mark the problem frames using Shit+Click or define a new template entirely using Shift+Ctrl+Click. Another option is to increase the \"Evolve\" value: Tracker updates the template after each new frame by superposing the old template with the new matches. By increasing \"Evolve\", you permit more drastic updates. Be careful not to do this unless absolutely necessary, as it may cause inaccuracies. See **Fig. 11**.\n",
    "\n",
    "<p>\n",
    "<center>\n",
    "<img src=\"https://raw.githubusercontent.com/UBC-Okanagan-Physics-Labs/PHYS-121-images/main/Lab-8/images/autotracker.png\" style=\"width: 60%\" /><br>\n",
    "<b>Fig. 11: To set up the autotracker, you'll need to define both the template and the search region.  </b></center>\n",
    "</p>\n",
    "\n",
    "\n",
    "11. Click File -> Export -> Data... and change \"Number Format\" to \"Full Precision\", \"Delimiter\" to \"Comma\", and \"Columns\" to \"t,x\" (**make sure you had your axes set appropriately at the beginning of the video! It's not too late to rotate them so that the trajectory is along the positive x-axis**). Once you've exported the .txt file, move it to the same folder as this notebook (drag and drop the file into the frame along the left-hand side of the notebook).  In order for your work to be graded properly, you must name your exported files **thin.txt**, **medium.txt**, **thick.txt**, and **plastic.txt**. \n",
    "\n",
    "12. Click File -> New Tab and repeat.\n",
    "\n"
   ]
  },
  {
   "cell_type": "markdown",
   "id": "8651ffbb",
   "metadata": {
    "deletable": false,
    "editable": false,
    "tags": []
   },
   "source": [
    "# <div style=\"background-color:rgba(255, 204, 255, 0.5); text-align:center; vertical-align: middle; padding:40px 0; margin-top:30px\"><span style=\"color:rgba(102, 0, 204, 1);\">Part 3 - Magnetic Braking - Data Analysis (30 minutes)</span></div>"
   ]
  },
  {
   "cell_type": "markdown",
   "id": "ada35b57",
   "metadata": {
    "deletable": false,
    "editable": false,
    "tags": []
   },
   "source": [
    "<!-- BEGIN QUESTION -->\n",
    "\n",
    "***\n",
    "**<span style=\"color:blue\">Question 3.1</span>**  **<span style=\"color:red\">(4 marks)</span>**  \n",
    "\n",
    "The first cell below contains a template for loading your **thin.txt** file into a DataFrame. Follow this template to upload the rest of your data.\n",
    "\n",
    "*** Please do not change anything to the left of the equals sign. ***"
   ]
  },
  {
   "cell_type": "code",
   "execution_count": null,
   "id": "69597675",
   "metadata": {
    "deletable": false,
    "editable": false,
    "tags": []
   },
   "outputs": [],
   "source": [
    "# Import data for the thin copper track.\n",
    "thin = pd.read_csv(\"thin.txt\", skiprows=2, header = None, names=[\"t\",\"x\"])\n",
    "\n",
    "# Display the dataFrame.\n",
    "thin"
   ]
  },
  {
   "cell_type": "code",
   "execution_count": null,
   "id": "77686660",
   "metadata": {
    "tags": []
   },
   "outputs": [],
   "source": [
    "# Import data for medium copper track\n",
    "medium = ...\n",
    "\n",
    "# Display the dataFrame.\n",
    "medium"
   ]
  },
  {
   "cell_type": "code",
   "execution_count": null,
   "id": "2bb8f6ed",
   "metadata": {
    "tags": []
   },
   "outputs": [],
   "source": [
    "# Import data for the thick copper track\n",
    "thick = ...\n",
    "\n",
    "# Display the dataFrame.\n",
    "thick"
   ]
  },
  {
   "cell_type": "code",
   "execution_count": null,
   "id": "8c3337d7",
   "metadata": {
    "tags": []
   },
   "outputs": [],
   "source": [
    "# Import data for plastic track\n",
    "plastic = ...\n",
    "\n",
    "# Display the dataFrame.\n",
    "plastic"
   ]
  },
  {
   "cell_type": "markdown",
   "id": "e6c9f858",
   "metadata": {
    "deletable": false,
    "editable": false,
    "tags": []
   },
   "source": [
    "<!-- END QUESTION -->\n",
    "\n",
    "Consider Eq. (7) once more, which is repeated below. It shows exponential behaviour in the approach to terminal velocity:\n",
    "\n",
    "\\begin{equation}\n",
    "x(t) = v_\\mathrm{T}\\tau\\left( \\frac{t}{\\tau} - 1 + \\exp ( -t/\\tau ) \\right)\n",
    "\\tag{8}\n",
    "\\end{equation}\n",
    "\n",
    "It's common practice to consider *limiting cases*. What happens when our parameter $\\tau = m/b$ is very large or very small? Recall that:\n",
    "\n",
    "\\begin{equation}\n",
    "v_\\mathrm{T}  = \\tau g\\left( \\sin\\alpha - \\mu_\\mathrm{k} \\cos\\alpha \\right) \n",
    "\\end{equation}\n",
    "\n",
    "In the limit $\\tau \\to \\infty$ ($m >> b$ or $b \\to 0$) it is possible to show that $x(t)\\propto t^2$, which is what we expect for an object experiencing a constant acceleration due to gravity  and kinetic friction:\n",
    "\n",
    "\\begin{equation}\n",
    "\\lim\\limits_{\\tau\\to\\infty}x(t) \\approx \\frac{v_\\mathrm{T}}{2\\tau}t^2 = \\frac{1}{2} gt^2 \\left( \\sin \\alpha - \\mu_\\mathrm{k} \\cos \\alpha \\right)\n",
    "\\tag{9}\n",
    "\\end{equation}\n",
    "\n",
    "At the opposite extreme, as $\\tau \\to 0$ ($b >> m$ or $b \\to \\infty$) we see that $x(t)$ is linear, suggesting that terminal velocity is reached almost instantly when the magnetic braking is strong:\n",
    "\n",
    "\\begin{equation}\n",
    "\\lim\\limits_{\\tau\\to 0}x(t) = v_\\mathrm{T}t\n",
    "\\tag{10}\n",
    "\\end{equation}"
   ]
  },
  {
   "cell_type": "markdown",
   "id": "dc9a95b3",
   "metadata": {
    "deletable": false,
    "editable": false,
    "tags": []
   },
   "source": [
    "<!-- BEGIN QUESTION -->\n",
    "\n",
    "***\n",
    "**<span style=\"color:blue\">Question 3.2</span>**  **<span style=\"color:red\">(2 marks)</span>**   \n",
    "\n",
    "Answer the following questions based on the discussion above and your observations during the experiment. As always, explain your answers. \n",
    "\n",
    "\n",
    "- (a) For which tracks (if any) do you expect Eq. (9) to be appropriate? \n",
    " \n",
    "- (b) For which tracks (if any) do you expect Eq. (10) to be appropriate?\n",
    "\n",
    "- (c) For which tracks (if any) do you expect *neither* approximation to be appropriate?"
   ]
  },
  {
   "cell_type": "markdown",
   "id": "6deb16f4",
   "metadata": {},
   "source": [
    "***\n",
    "**<span style=\"color:blue\">Answer 3.2:</span>**\n",
    "\n",
    "[//]: # (Please do not delete this comment or anything above it.  Anything below this comment can be deleted.)  \n",
    "\n",
    "Double click this cell and enter your text here.  When done, hit 'Shift' + 'Enter' to execute the cell.  You may delete this text when entering your answer. \n",
    "***"
   ]
  },
  {
   "cell_type": "markdown",
   "id": "f403fe3a",
   "metadata": {
    "deletable": false,
    "editable": false,
    "tags": []
   },
   "source": [
    "<!-- END QUESTION -->\n",
    "\n",
    "Below, we provide three templates for you to use when analyzing your data: a linear fit, a power-law fit, and a fit designed specifically for Eq. (8).\n",
    "\n",
    "```python\n",
    "# Linear fit template. \n",
    "m, b, dm, db, fig = PHYS121.LinearFit(xData = ...,\n",
    "                                      yData = ..., \n",
    "                                      xlabel = 'time', \n",
    "                                      ylabel = 'position', \n",
    "                                      xUnits = 's', \n",
    "                                      yUnits = 'm')\n",
    "\n",
    "# Power law fit template.\n",
    "A, N, C, dA, dN, dC, fig = PHYS121.PowerLaw(xData = ..., \n",
    "                                            yData = ..., \n",
    "                                            xlabel = 'time', \n",
    "                                            ylabel = 'position', \n",
    "                                            xUnits = 's', \n",
    "                                            yUnits = 'm')\n",
    "\n",
    "# Eq. (7) fit template.\n",
    "v_T, tau, dv_T, dtau, fig = PHYS121.Braking(xData = ..., \n",
    "                                            yData = ..., \n",
    "                                            xlabel = 'time', \n",
    "                                            ylabel = 'position', \n",
    "                                            xUnits = 's', \n",
    "                                            yUnits = 'm')\n",
    "```\n",
    "\n",
    "Remember, the access a specific column from a dataFrame called df, you use the syntax:\n",
    "```python\n",
    "df[\"column_name\"]\n",
    "```"
   ]
  },
  {
   "cell_type": "markdown",
   "id": "738d3256",
   "metadata": {
    "deletable": false,
    "editable": false,
    "tags": []
   },
   "source": [
    "For the following four questoins, use the templates above to perform the appropriate fit for each of your four datasets, **choosing appropriate units and axis labels**. You're welcome to try multiple fits on a dataset and take the one that provides the *simplest* result without sacrificing accuracy.  If you find that your results contradict your answers from **Question 3.2**, comment on this fact in the question that follows the fits."
   ]
  },
  {
   "cell_type": "markdown",
   "id": "c3747196",
   "metadata": {
    "deletable": false,
    "editable": false,
    "tags": []
   },
   "source": [
    "<!-- BEGIN QUESTION -->\n",
    "\n",
    "***\n",
    "**<span style=\"color:blue\">Question 3.3</span>**  **<span style=\"color:red\">(1 mark)</span>**  \n",
    "\n",
    "Complete the fit for the thin copper track."
   ]
  },
  {
   "cell_type": "code",
   "execution_count": null,
   "id": "91ceddaf",
   "metadata": {
    "tags": []
   },
   "outputs": [],
   "source": [
    "# Thin copper track"
   ]
  },
  {
   "cell_type": "markdown",
   "id": "6afbabc3",
   "metadata": {
    "deletable": false,
    "editable": false,
    "tags": []
   },
   "source": [
    "<!-- END QUESTION -->\n",
    "\n",
    "<!-- BEGIN QUESTION -->\n",
    "\n",
    "***\n",
    "**<span style=\"color:blue\">Question 3.4</span>**  **<span style=\"color:red\">(1 mark)</span>**  \n",
    "\n",
    "Complete the fit for the medium copper track."
   ]
  },
  {
   "cell_type": "code",
   "execution_count": null,
   "id": "fcfa0dad",
   "metadata": {
    "tags": []
   },
   "outputs": [],
   "source": [
    "# Medium copper track."
   ]
  },
  {
   "cell_type": "markdown",
   "id": "d857dd57",
   "metadata": {
    "deletable": false,
    "editable": false,
    "tags": []
   },
   "source": [
    "<!-- END QUESTION -->\n",
    "\n",
    "<!-- BEGIN QUESTION -->\n",
    "\n",
    "***\n",
    "**<span style=\"color:blue\">Question 3.5</span>**  **<span style=\"color:red\">(1 mark)</span>**  \n",
    "\n",
    "Complete the fit for the thick copper track."
   ]
  },
  {
   "cell_type": "code",
   "execution_count": null,
   "id": "2be50bfe",
   "metadata": {
    "tags": []
   },
   "outputs": [],
   "source": [
    "# Thick copper track"
   ]
  },
  {
   "cell_type": "markdown",
   "id": "de10f696",
   "metadata": {
    "deletable": false,
    "editable": false,
    "tags": []
   },
   "source": [
    "<!-- END QUESTION -->\n",
    "\n",
    "<!-- BEGIN QUESTION -->\n",
    "\n",
    "***\n",
    "**<span style=\"color:blue\">Question 3.6</span>**  **<span style=\"color:red\">(1 mark)</span>**  \n",
    "\n",
    "Complete the fit for the plastic track."
   ]
  },
  {
   "cell_type": "code",
   "execution_count": null,
   "id": "3f324202",
   "metadata": {
    "tags": []
   },
   "outputs": [],
   "source": [
    "# Plastic track."
   ]
  },
  {
   "cell_type": "markdown",
   "id": "2bee1d18",
   "metadata": {
    "deletable": false,
    "editable": false,
    "tags": []
   },
   "source": [
    "<!-- END QUESTION -->\n",
    "\n",
    "<!-- BEGIN QUESTION -->\n",
    "\n",
    "***\n",
    "**<span style=\"color:blue\">Question 3.7</span>**  **<span style=\"color:red\">(2 marks)</span>**  \n",
    "\n",
    "(a) Comment on the quality of your fits.  Did your fits match your expectations from **Question 3.2**?\n",
    "\n",
    "(b) Based on your results, what can you say about the relative value of $b$ for each track? How does this compare to your answer from **Question 2.3**?"
   ]
  },
  {
   "cell_type": "markdown",
   "id": "cc47ce85",
   "metadata": {},
   "source": [
    "***\n",
    "**<span style=\"color:blue\">Answer 3.7:</span>**\n",
    "\n",
    "[//]: # (Please do not delete this comment or anything above it.  Anything below this comment can be deleted.)  \n",
    "\n",
    "Double click this cell and enter your text here.  When done, hit 'Shift' + 'Enter' to execute the cell.  You may delete this text when entering your answer. \n",
    "***"
   ]
  },
  {
   "cell_type": "markdown",
   "id": "bb9ae1a6",
   "metadata": {
    "deletable": false,
    "editable": false,
    "tags": []
   },
   "source": [
    "<!-- END QUESTION -->\n",
    "\n",
    "At the back of the room, we have set up a track made of actual coils of wire.  These coils are connected to light-emitting diodes (LEDs).  When current is induced in the coil in one direction a green LED lights up.  When current is induced in the opposite direction, a red LED lights up.  We won't ask you any questions about this demo, but feel free to play with the set up.  The magnet moves pretty quickly which makes it difficult to see precisely when the LEDs turn off and on.  Executing the cell below will open a YouTube video that has slow-motion recordings of the magnet's motion and LEDs turning off and on."
   ]
  },
  {
   "cell_type": "code",
   "execution_count": null,
   "id": "8ea00cfc",
   "metadata": {
    "deletable": false,
    "editable": false,
    "tags": []
   },
   "outputs": [],
   "source": [
    "YouTubeVideo(\"7qMgMOK3uec\", width=500)"
   ]
  },
  {
   "cell_type": "markdown",
   "id": "bcc6df7a",
   "metadata": {
    "deletable": false,
    "editable": false,
    "tags": []
   },
   "source": [
    "# <div style=\"background-color:rgba(255, 204, 255, 0.5); text-align:center; vertical-align: middle; padding:40px 0; margin-top:30px\"><span style=\"color:rgba(102, 0, 204, 1);\">Part 4 - Cathode Ray Tubes (20 minutes)</span></div>"
   ]
  },
  {
   "cell_type": "markdown",
   "id": "65b50e8c",
   "metadata": {
    "deletable": false,
    "editable": false,
    "tags": []
   },
   "source": [
    "Prior to the invention of liquid crystal displays (LCDs), **cathode ray tubes** (or **CRT**s) were the primary component in television sets. These simple devices were once ubiquitous - in fact, the first invention that might be recognized as a video game was the *cathode ray amusement device*, [patented in 1948 by Thomas Goldsmith](https://www.popularmechanics.com/culture/gaming/a20129/the-very-first-video-game/). CRTs also have a profound legacy within physics -- experiments with cathode ray tubes led to the 1897 discovery of the electron by JJ Thomson. This discovery and a few other puzzling experimental and theoretical developments from the late 19th century would eventually culminate in the quantum revolution of the 1920s. \n",
    "\n",
    "**Figure 12** shows a simplified diagram of a cathode ray tube. A tungsten heating element (much like the filament of an incandescent lightbulb) is used to heat up a nearby cathode, typically made from barium carbonate. A voltage source creates a slight excess of electrons in the cathode. The kinetic energy of these electrons increases with temperature until the most energetic electrons are released from the cathode in a process called **thermionic emission**.\n",
    "\n",
    "The emitted cloud of electrons is concentrated into a beam and accelerated by an electric field. Magnetic fields established by deflecting coils are used to steer the beam as it is fired towards a phosphorescent screen which begins to glow a dull green. \n",
    "\n",
    "<p>\n",
    "<center>\n",
    "<img src=\"https://raw.githubusercontent.com/UBC-Okanagan-Physics-Labs/PHYS-121-images/main/Lab-8/images/crt.png\" style=\"width: 65%\" /><br>\n",
    "<b>Fig. 12: Simplified diagram of a cathode ray tube. Note that phosphorence is the same phenomenon exploited by glow-in-the-dark materials.  </b></center>\n",
    "</p>"
   ]
  },
  {
   "cell_type": "markdown",
   "id": "321f74e1",
   "metadata": {
    "deletable": false,
    "editable": false,
    "tags": []
   },
   "source": [
    "There will be stations in the lab room with CRTs and bar magnets. You are free to experiment with these, and you should attempt to predict what will happen before you try different things. Recall that the force on a moving charge is given by:\n",
    "\n",
    "\\begin{equation}\n",
    "\\vec{F}_B = q \\vec{v} \\times \\vec{B} \n",
    "\\tag{8}\n",
    "\\end{equation}\n",
    "\n",
    "for a charge $q$ moving with velocity $\\vec{v}$ through a magnetic field $\\vec{B}$. Recall also that the **right-hand rule** tells you how to determine the direction of the cross product of two vectors:\n",
    "\n",
    "<p>\n",
    "<center>\n",
    "<img src=\"https://raw.githubusercontent.com/UBC-Okanagan-Physics-Labs/PHYS-121-images/main/Lab-8/images/rhr.png\" style=\"width: 35%\" /><br>\n",
    "<b>Fig. 10: The right-hand rule for determining the direction of $\\vec{a}\\times\\vec{b}$, the cross product of vectors $\\vec{a}$ and $\\vec{b}$. From <a href=\"https://commons.wikimedia.org/wiki/File:Right_hand_rule_cross_product.svg\">Wikimedia Commons</a>, licenced under <a href=\"https://creativecommons.org/licenses/by-sa/3.0/legalcode\" rel=\"license\">CC BY-SA 3.0</a>.  </b>\n",
    "</center>\n",
    "</p>\n",
    "\n",
    "\n",
    "The following questions are purely qualitative and require no calculations, but you still must explain as specifically as possible *why* one would expect the observed behaviour. "
   ]
  },
  {
   "cell_type": "markdown",
   "id": "9e0460df",
   "metadata": {
    "deletable": false,
    "editable": false,
    "tags": []
   },
   "source": [
    "<!-- BEGIN QUESTION -->\n",
    "\n",
    "***\n",
    "**<span style=\"color:blue\">Question 4.1</span>**  **<span style=\"color:red\">(1 mark)</span>**  \n",
    "\n",
    "Bring the bar magnet towards the CRT as shown:\n",
    "\n",
    "<br>\n",
    "<p>\n",
    "<center>\n",
    "<img src=\"https://raw.githubusercontent.com/UBC-Okanagan-Physics-Labs/PHYS-121-images/main/Lab-8/images/crtmag1.png\" style=\"width: 19%\" />\n",
    "</center>\n",
    "</p>\n",
    "\n",
    "What (if anything) will happen to the beam of electrons, as shown by the dot on the phosphorescent screen?  The *negative* beam of electrons is moving out of the screen.  Also remember that magentic field lines exit north poles and enter south poles."
   ]
  },
  {
   "cell_type": "markdown",
   "id": "3422750e",
   "metadata": {},
   "source": [
    "***\n",
    "**<span style=\"color:blue\">Answer 4.1:</span>**\n",
    "\n",
    "[//]: # (Please do not delete this comment or anything above it.  Anything below this comment can be deleted.)  \n",
    "\n",
    "Double click this cell and enter your text here.  When done, hit 'Shift' + 'Enter' to execute the cell.  You may delete this text when entering your answer. "
   ]
  },
  {
   "cell_type": "markdown",
   "id": "be707b7b",
   "metadata": {
    "deletable": false,
    "editable": false,
    "tags": []
   },
   "source": [
    "<!-- END QUESTION -->\n",
    "\n",
    "<!-- BEGIN QUESTION -->\n",
    "\n",
    "***\n",
    "**<span style=\"color:blue\">Question 4.2</span>**  **<span style=\"color:red\">(1 mark)</span>**  \n",
    "\n",
    "<br>\n",
    "<p>\n",
    "<center>\n",
    "<img src=\"https://raw.githubusercontent.com/UBC-Okanagan-Physics-Labs/PHYS-121-images/main/Lab-8/images/crtmag2.png\" style=\"width: 25%\" />\n",
    "</center>\n",
    "</p>\n",
    "\n",
    "If you bring the bar magnet in from the side (as in the figure above) what happens? (Hint: try picturing the magnetic field lines around the bar magnet) "
   ]
  },
  {
   "cell_type": "markdown",
   "id": "8c689791",
   "metadata": {},
   "source": [
    "***\n",
    "**<span style=\"color:blue\">Answer 4.2:</span>**\n",
    "\n",
    "[//]: # (Please do not delete this comment or anything above it.  Anything below this comment can be deleted.)  \n",
    "\n",
    "Double click this cell and enter your text here.  When done, hit 'Shift' + 'Enter' to execute the cell.  You may delete this text when entering your answer. "
   ]
  },
  {
   "cell_type": "markdown",
   "id": "1bd0e80b",
   "metadata": {
    "deletable": false,
    "editable": false,
    "tags": []
   },
   "source": [
    "<!-- END QUESTION -->\n",
    "\n",
    "***\n",
    "Finally, here's another short YouTube video.  It is a recording from the same CRT used in the lab.  Watch what happens when a rotating magnetic field is placed near the electron beam.  Again, we won't ask any more questions, just enjoy the intricate interplay between electrcity and magnetism!"
   ]
  },
  {
   "cell_type": "code",
   "execution_count": null,
   "id": "dae59d58",
   "metadata": {
    "deletable": false,
    "editable": false,
    "tags": []
   },
   "outputs": [],
   "source": [
    "YouTubeVideo(\"UgMZC8fT0zM\", width=500)"
   ]
  },
  {
   "cell_type": "markdown",
   "id": "e902935b",
   "metadata": {
    "deletable": false,
    "editable": false,
    "tags": []
   },
   "source": [
    "# <div style=\"background-color:rgba(255, 204, 255, 0.5); text-align:center; vertical-align: middle; padding:40px 0; margin-top:30px\"><span style=\"color:rgba(102, 0, 204, 1);\">Part 5- Statement of contributions (10 minutes)</span></div>"
   ]
  },
  {
   "cell_type": "markdown",
   "id": "9422d01d",
   "metadata": {
    "deletable": false,
    "editable": false,
    "tags": []
   },
   "source": [
    "Below, you will briefly summarize the contributions that you and your partner made when completely this lab.  Please ensure that both partners have a chance to engage in all types of lab activities (developing the experimental methods/data collection strategies, hands-on interaction with the apparatus/data collection, and data processing/analysis in the Jupyter notebook).  Note that statements of contributions are common in science.  The figure below shows one example taken from a 2021 paper published in the journal *Nature Physics*.\n",
    "\n",
    "<p>\n",
    "<center>\n",
    "<img src=\"https://cmps-people.ok.ubc.ca/jbobowsk/PHYS_121_Lab/Lab1/images/contributions.jpg\" alt=\"image info\" style=\"width: 60%; height: auto;\" /><br>\n",
    "<b>Fig. 4: A sample statement of author contributions from a recent journal article.</b></center>\n",
    "</p>"
   ]
  },
  {
   "cell_type": "markdown",
   "id": "f5173707",
   "metadata": {
    "deletable": false,
    "editable": false,
    "tags": []
   },
   "source": [
    "<!-- BEGIN QUESTION -->\n",
    "\n",
    "***\n",
    "**<span style=\"color:blue\">Question 5.1(a):</span>**  \n",
    "\n",
    "Answer this question only if you worked with a partner to complete this lab.\n",
    "\n",
    "In two or three sentences describe the specific contributions of **Partner #1** to this lab.  For example, worked with the experimental apparatus to collect data for Part 1 of the lab, entered and processed the data in the Jupyter notebook for Part 2 of the lab, ...  "
   ]
  },
  {
   "cell_type": "markdown",
   "id": "3e6aa634",
   "metadata": {},
   "source": [
    "***\n",
    "**<span style=\"color:blue\">Answer 5.1(a):</span>**\n",
    "\n",
    "[//]: # (Please do not delete this comment or anything above it.  Anything below this comment can be deleted.)  \n",
    "\n",
    "Double click this cell and enter your text here.  Please start be entering the name and student number of **Partner #1**.  When done, hit 'Shift' + 'Enter' to execute the cell.  You may delete this text when entering your answer. "
   ]
  },
  {
   "cell_type": "markdown",
   "id": "de237a1c",
   "metadata": {
    "deletable": false,
    "editable": false,
    "tags": []
   },
   "source": [
    "<!-- END QUESTION -->\n",
    "\n",
    "<!-- BEGIN QUESTION -->\n",
    "\n",
    "***\n",
    "**<span style=\"color:blue\">Question 5.1(b):</span>**  \n",
    "\n",
    "Answer this question only if you worked with a partner to complete this lab.\n",
    "\n",
    "In two or three sentences describe the specific contributions of **Partner #2** to this lab.  "
   ]
  },
  {
   "cell_type": "markdown",
   "id": "14661aca",
   "metadata": {},
   "source": [
    "***\n",
    "**<span style=\"color:blue\">Answer 5.1(b):</span>**\n",
    "\n",
    "[//]: # (Please do not delete this comment or anything above it.  Anything below this comment can be deleted.)  \n",
    "\n",
    "Double click this cell and enter your text here.  Please start be entering the name and student number of **Partner #2**.  When done, hit 'Shift' + 'Enter' to execute the cell.  You may delete this text when entering your answer. "
   ]
  },
  {
   "cell_type": "markdown",
   "id": "5a495433",
   "metadata": {
    "deletable": false,
    "editable": false,
    "tags": []
   },
   "source": [
    "<!-- END QUESTION -->\n",
    "\n",
    "# <div style=\"background-color:rgba(255, 204, 255, 0.5); text-align:center; vertical-align: middle; padding:40px 0; margin-top:30px\"><span style=\"color:rgba(102, 0, 204, 1);\">Part 6 - Student Surveys (20 minutes)</span></div>\n",
    "\n",
    "The last thing that we'd like to ask you to do in the PHYS 121 Lab is complete two online surveys.  You responses will help us evaluate what's working well in the PHYS 121 labs and areas that are in need of improvement.\n",
    "\n",
    "### Survey #3 - Experience in the Lab (End-of-Term)\n",
    "\n",
    "The first survey is used to collect feedback about the lab activities and the Jupyter notebook-based lab manuals.  The lab activities and method of delivery are both new, so we really do value your feedback.\n",
    "\n",
    "Here is the link to [Survey #3 - Experience in the Lab (End-of-Term)](https://ubc.ca1.qualtrics.com/jfe/form/SV_e2uzf0ZyPofvBsO)\n",
    "\n",
    "\n",
    "### Survey #4 - TA Quality (End-of-Term)\n",
    "\n",
    "The second survey is used to collect feedback about the quality of your TA.  The anonymous feedback will be shared with your TA so that in future courses they can keep doing the things that you like while simultaneously trying to improve any weaknesses. \n",
    "\n",
    "Here is the link to [Survey #4 - TA Quality (End-of-Term)](https://ubc.ca1.qualtrics.com/jfe/form/SV_3m8XsbULl7KtY22)\n",
    "\n",
    "Both of these surveys are also available in the **PHYS 121 Labs 2022W2** [Canvas](https://canvas.ubc.ca/) shell.  In Canvas, click on \"Modules\" and then scroll down to the bottom of the page to find the \"Feedback\" module. If your partner is using the lab computer to complete the surveys, feel free to log into Canvas to complete the two surveys."
   ]
  },
  {
   "cell_type": "markdown",
   "id": "7331226c",
   "metadata": {
    "deletable": false,
    "editable": false,
    "tags": []
   },
   "source": [
    "***\n",
    "**<span style=\"color:blue\">Question 6.1</span>** **<span style=\"color:red\">(1 mark)</span>**\n",
    "\n",
    "Partner #1 and Partner #2 (if applicable), completed both of the online surveys.\n",
    "\n",
    "(a) True  \n",
    "(b) False"
   ]
  },
  {
   "cell_type": "markdown",
   "id": "ec2e7da2",
   "metadata": {},
   "source": [
    "***\n",
    "**<span style=\"color:blue\">Answer 6.1:</span>**\n",
    "\n",
    "Replace the ... in the cell below with your answer.  Your answer should be a single character (a, b, T, or F) between single or double quotes.  \n",
    "\n",
    "*** Please do not change anything to the left of the equals sign. ***"
   ]
  },
  {
   "cell_type": "code",
   "execution_count": null,
   "id": "57245fb0",
   "metadata": {
    "tags": []
   },
   "outputs": [],
   "source": [
    "a6_1 = ..."
   ]
  },
  {
   "cell_type": "code",
   "execution_count": null,
   "id": "f106b7b0",
   "metadata": {
    "deletable": false,
    "editable": false
   },
   "outputs": [],
   "source": [
    "grader.check(\"q6.1\")"
   ]
  },
  {
   "cell_type": "markdown",
   "id": "8f595903",
   "metadata": {
    "deletable": false,
    "editable": false,
    "tags": []
   },
   "source": [
    "# <div style=\"background-color:rgba(255, 204, 255, 0.5); text-align:center; vertical-align: middle; padding:40px 0; margin-top:30px\"><span style=\"color:rgba(102, 0, 204, 1);\">Part 7 - Submission (5 minutes)</span></div>"
   ]
  },
  {
   "cell_type": "markdown",
   "id": "7317aeec",
   "metadata": {
    "deletable": false,
    "editable": false,
    "tags": []
   },
   "source": [
    "<!-- BEGIN QUESTION -->\n",
    "\n",
    "***\n",
    "**<span style=\"color:blue\">Question 7.1:</span>**  \n",
    "\n",
    "We welcome your feedback on the PHYS 121 labs!  Please feel free to include any comments you have about this lab in the cell below.  Your comments will be taken into consideration when revising/improving the PHYS 121 labs.  You can suggest improvements, point out anything that was unclear, comment on the strengths and weaknesses of the lab, ...\n",
    "\n",
    "This question is optional and will have no impact on your lab grade."
   ]
  },
  {
   "cell_type": "markdown",
   "id": "eaf5c37c",
   "metadata": {},
   "source": [
    "***\n",
    "**<span style=\"color:blue\">Answer 7.1:</span>**\n",
    "\n",
    "[//]: # (Please do not delete this comment or anything above it.  Anything below this comment can be deleted.)  \n",
    "\n",
    "Double click this cell and enter your text here.  When done, hit 'Shift' + 'Enter' to execute the cell.  You may delete this text when entering your answer. "
   ]
  },
  {
   "cell_type": "markdown",
   "id": "329663c6",
   "metadata": {},
   "source": [
    "<!-- END QUESTION -->\n",
    "\n"
   ]
  },
  {
   "cell_type": "code",
   "execution_count": null,
   "id": "26441a2c",
   "metadata": {
    "deletable": false,
    "editable": false,
    "tags": []
   },
   "outputs": [],
   "source": [
    "grader.check_all()"
   ]
  },
  {
   "cell_type": "markdown",
   "id": "38030006",
   "metadata": {
    "deletable": false,
    "editable": false,
    "tags": []
   },
   "source": [
    "***\n",
    "\n",
    "## Submission\n",
    "\n",
    "Make sure you have run all cells in your notebook in order before running the cell below, so that all images/graphs appear in the output. The cell below will generate a zip file for you to submit. **Please save before exporting!**\n",
    "\n",
    "Once you've completed this notebook:\n",
    "- Save your work.\n",
    "- Run 'grader.export()' to generate a .zip file containing all of the materials that you will submit.\n",
    "- Download the generated .zip file.\n",
    "- Upload the .zip file to the PHYS 121 Canvas gradebook.\n",
    "\n",
    "Here is a <a href = \"https://raw.githubusercontent.com/UBC-Okanagan-Physics-Labs/PHYS-121-images/main/general/gifs/Submission.gif\">GIF</a> showing how these steps are completed.  Once your completed notebook has been uploaded to the Canvas gradebook, you're done!"
   ]
  },
  {
   "cell_type": "code",
   "execution_count": null,
   "id": "0c83e090",
   "metadata": {},
   "outputs": [],
   "source": [
    "# Save your notebook first, then run this cell (place your cursor in the cell and then hit Shift + Enter) to export \n",
    "# your submission.  Uploaded the .zip file that is generated to the gradebook of the Canvas shell for the PHYS 121 lab.\n",
    "grader.export(files=[\"thin.txt\", \"medium.txt\", \"thick.txt\", \"plastic.txt\"])"
   ]
  },
  {
   "cell_type": "markdown",
   "id": "19564401",
   "metadata": {
    "deletable": false,
    "editable": false,
    "tags": []
   },
   "source": [
    "# <div style=\"background-color:rgba(255, 204, 255, 0.5); text-align:center; vertical-align: middle; padding:40px 0; margin-top:30px\"><span style=\"color:rgba(102, 0, 204, 1);\">Part 8 - Playground (optional)</span></div>\n",
    "\n",
    "Feel free to add as many cells as you like below and use them as a playground for further independent investigations.  These cells won't be graded, so feel free to use them in any way that you like.  "
   ]
  },
  {
   "cell_type": "code",
   "execution_count": null,
   "id": "a685f92c",
   "metadata": {},
   "outputs": [],
   "source": [
    "# Here's an empty code cell that you can use.  "
   ]
  },
  {
   "cell_type": "code",
   "execution_count": null,
   "id": "60ecc49d",
   "metadata": {},
   "outputs": [],
   "source": [
    "# Here's another empty code cell that you can use."
   ]
  },
  {
   "cell_type": "code",
   "execution_count": null,
   "id": "fe237641",
   "metadata": {},
   "outputs": [],
   "source": [
    "# Here's yet another empty code cell that you can use.  \n",
    "# If you need more, you can add cells using the '+' icon in the menu bar at to the top of the screen."
   ]
  },
  {
   "cell_type": "markdown",
   "id": "7b588290",
   "metadata": {
    "deletable": false,
    "editable": false,
    "tags": []
   },
   "source": [
    "<img src=\"https://raw.githubusercontent.com/UBC-Okanagan-Physics-Labs/PHYS-121-images/main/general/images/ubc-logo-full.jpg\" width=\"500\"/>"
   ]
  },
  {
   "cell_type": "markdown",
   "id": "1e299665",
   "metadata": {},
   "source": [
    "Last update: March 23, 2023"
   ]
  }
 ],
 "metadata": {
  "kernelspec": {
   "display_name": "Python 3 (ipykernel)",
   "language": "python",
   "name": "python3"
  },
  "language_info": {
   "codemirror_mode": {
    "name": "ipython",
    "version": 3
   },
   "file_extension": ".py",
   "mimetype": "text/x-python",
   "name": "python",
   "nbconvert_exporter": "python",
   "pygments_lexer": "ipython3",
   "version": "3.10.6"
  },
  "otter": {
   "OK_FORMAT": true,
   "tests": {
    "name_and_student_number": {
     "name": "name_and_student_number",
     "points": null,
     "suites": [
      {
       "cases": [
        {
         "code": ">>> isinstance(last_name_1, str)\nTrue",
         "failure_message": "last_name_1 must be a string (i.e. surround your answer by either single or double quotes).",
         "hidden": false,
         "locked": false,
         "points": 0
        },
        {
         "code": ">>> isinstance(first_name_1, str)\nTrue",
         "failure_message": "first_name_1 must be a string (i.e. surround your answer by either single or double quotes).",
         "hidden": false,
         "locked": false,
         "points": 0
        },
        {
         "code": ">>> isinstance(student_number_1, str)\nTrue",
         "failure_message": "student_number_1 must be a string (i.e. surround your answer by either single or double quotes).",
         "hidden": false,
         "locked": false,
         "points": 0
        },
        {
         "code": ">>> test = True\n>>> if isinstance(student_number_1, str):\n...     test = len(student_number_1) == 8\n>>> test\nTrue",
         "failure_message": "student_number_1 must be a string of exactly 8 characters.",
         "hidden": false,
         "locked": false,
         "points": 0
        },
        {
         "code": ">>> test = True\n>>> if isinstance(student_number_1, str):\n...     test = student_number_1.isdigit()\n>>> test\nTrue",
         "failure_message": "student_number_1 must contain only interger digits (0, 1, 2, 3, ..., 9)",
         "hidden": false,
         "locked": false,
         "points": 0.5
        },
        {
         "code": ">>> isinstance(last_name_2, str) or last_name_2 == ...\nTrue",
         "failure_message": "last_name_2 must be a string (i.e. surround your answer by either single or double quotes).",
         "hidden": false,
         "locked": false,
         "points": 0
        },
        {
         "code": ">>> isinstance(first_name_2, str) or first_name_2 == ...\nTrue",
         "failure_message": "first_name_2 must be a string (i.e. surround your answer by either single or double quotes).",
         "hidden": false,
         "locked": false,
         "points": 0
        },
        {
         "code": ">>> isinstance(student_number_2, str) or student_number_2 == ...\nTrue",
         "failure_message": "student_number_2 must be a string (i.e. surround your answer by either single or double quotes).",
         "hidden": false,
         "locked": false,
         "points": 0
        },
        {
         "code": ">>> test = True\n>>> if isinstance(student_number_2, str):\n...     test = len(student_number_2) == 8\n>>> test\nTrue",
         "failure_message": "student_number_2 must be a string of exactly 8 characters or be left as ...",
         "hidden": false,
         "locked": false,
         "points": 0
        },
        {
         "code": ">>> test = True\n>>> if isinstance(student_number_2, str):\n...     test = student_number_2.isdigit()\n>>> test\nTrue",
         "failure_message": "student_number_2 must contain only interger digits (0, 1, 2, 3, ..., 9) or be left as ...",
         "hidden": false,
         "locked": false,
         "points": 0.5
        }
       ],
       "scored": true,
       "setup": "",
       "teardown": "",
       "type": "doctest"
      }
     ]
    },
    "q6.1": {
     "name": "q6.1",
     "points": null,
     "suites": [
      {
       "cases": [
        {
         "code": ">>> a6_1.lower() in [\"a\", \"b\", \"t\", \"f\"]\nTrue",
         "failure_message": "Your answer must be a string of one of 'a', 'b', 'T', or 'F'.",
         "hidden": false,
         "locked": false,
         "points": 0
        }
       ],
       "scored": true,
       "setup": "",
       "teardown": "",
       "type": "doctest"
      }
     ]
    }
   }
  }
 },
 "nbformat": 4,
 "nbformat_minor": 5
}
